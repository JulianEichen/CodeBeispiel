{
 "cells": [
  {
   "cell_type": "markdown",
   "metadata": {},
   "source": [
    "# Welche quantitativen Eigenschaften hat der Bachkorpus in der Textdarstellung?\n",
    "\n",
    "Dieses Notebook dient der Ergänzung von gen_LSTM.ipynb. Es sollen die Gedanken und Methoden dargelegt werden, welche zur Wahl der Hyperparameter 'Sequenzlänge', 'Padding' und 'Emebedding Dimension' führten."
   ]
  },
  {
   "cell_type": "code",
   "execution_count": 1,
   "metadata": {},
   "outputs": [],
   "source": [
    "# Imports:\n",
    "\n",
    "from music21 import *\n",
    "\n",
    "from myHelper import getVocab, part2List  \n",
    "from sklearn import metrics \n",
    "import networkx as nx\n",
    "\n",
    "from itertools import groupby\n",
    "import numpy as np\n",
    "import matplotlib.pyplot as plt\n",
    "\n",
    "import timeit\n",
    "from datetime import datetime # model IDs\n",
    "\n",
    "import os # handle files "
   ]
  },
  {
   "cell_type": "markdown",
   "metadata": {},
   "source": [
    "## Weg zur Sequenzelänge und zur Art und Ausführung des Paddings"
   ]
  },
  {
   "cell_type": "code",
   "execution_count": 2,
   "metadata": {},
   "outputs": [
    {
     "name": "stdout",
     "output_type": "stream",
     "text": [
      "433\n"
     ]
    }
   ],
   "source": [
    "# Gesamtzahl der verhandenen Werke von Bach\n",
    "paths = corpus.getComposer('bach')\n",
    "print(len(paths))"
   ]
  },
  {
   "cell_type": "code",
   "execution_count": 3,
   "metadata": {},
   "outputs": [
    {
     "name": "stdout",
     "output_type": "stream",
     "text": [
      "<music21.metadata.bundles.MetadataBundle {363 entries}>\n"
     ]
    },
    {
     "data": {
      "text/plain": [
       "<music21.metadata.bundles.MetadataBundle {321 entries}>"
      ]
     },
     "execution_count": 3,
     "metadata": {},
     "output_type": "execute_result"
    }
   ],
   "source": [
    "bachBundle = corpus.search('bach', 'composer') \n",
    "print(bachBundle)\n",
    "bachBundle.search('4/4')"
   ]
  },
  {
   "cell_type": "code",
   "execution_count": 4,
   "metadata": {},
   "outputs": [],
   "source": [
    "corp_44 = bachBundle.search('4/4')[0].parse()"
   ]
  },
  {
   "cell_type": "code",
   "execution_count": 5,
   "metadata": {},
   "outputs": [
    {
     "name": "stdout",
     "output_type": "stream",
     "text": [
      "321\n"
     ]
    }
   ],
   "source": [
    "bach_44 = []\n",
    "for work_bach in bachBundle.search('4/4'):\n",
    "    bach_44.append(work_bach.parse())\n",
    "print(len(bach_44))"
   ]
  },
  {
   "cell_type": "markdown",
   "metadata": {},
   "source": [
    "### Vorbetrachtung der Werke im 4/4-Takt"
   ]
  },
  {
   "cell_type": "code",
   "execution_count": 6,
   "metadata": {},
   "outputs": [
    {
     "name": "stdout",
     "output_type": "stream",
     "text": [
      "Number of scores: 321\n",
      "Number of parts: 1264\n",
      "Average number of parts: 3.9376947040498442\n",
      "Max number of elments:  543\n",
      "Min number of elements:  23\n",
      "Average number of elements:  58.53322784810127\n",
      "Median number of elements:  53.0\n"
     ]
    }
   ],
   "source": [
    "num_parts = []\n",
    "max_elements = 0\n",
    "min_elements = 999\n",
    "nr_sums = []\n",
    "for score_44 in bach_44: #  Alle Werke durchgehen\n",
    "    temp_parts = score_44.parts # Alle Parts des aktuelle Werkes ablegen\n",
    "    num_parts.append(len(temp_parts)) # Parts zaehlen\n",
    "    \n",
    "    for part in temp_parts:\n",
    "        part = part.recurse()\n",
    "        num_notes = len(part.getElementsByClass(note.Note))\n",
    "        num_rests = len(part.getElementsByClass(note.Rest))\n",
    "        nr_sum = num_notes + num_rests\n",
    "        nr_sums.append(nr_sum)\n",
    "        #print(nr_sum)\n",
    "        if nr_sum < min_elements and nr_sum > 0:\n",
    "            min_elements = nr_sum\n",
    "        if nr_sum > max_elements:\n",
    "            max_elements = nr_sum\n",
    "    \n",
    "print('Number of scores:', len(num_parts))\n",
    "print('Number of parts:', sum(num_parts))\n",
    "print('Average number of parts:', sum(num_parts)/len(num_parts))\n",
    "print('Max number of elments: ', max_elements)\n",
    "print('Min number of elements: ', min_elements)\n",
    "print('Average number of elements: ', np.average(nr_sums))\n",
    "print('Median number of elements: ', np.median(nr_sums))"
   ]
  },
  {
   "cell_type": "code",
   "execution_count": 7,
   "metadata": {},
   "outputs": [
    {
     "data": {
      "image/png": "[encoded data removed]",
      "text/plain": [
       "<Figure size 432x288 with 1 Axes>"
      ]
     },
     "metadata": {
      "image/png": {
       "height": 248,
       "width": 369
      },
      "needs_background": "light"
     },
     "output_type": "display_data"
    }
   ],
   "source": [
    "# Historgram alle 4/4 Werke im Corpus\n",
    "num_bins = sum(num_parts)\n",
    "\n",
    "fig = plt.hist(nr_sums, bins=num_bins)"
   ]
  },
  {
   "cell_type": "markdown",
   "metadata": {},
   "source": [
    "Die obige Ausgabe ergibt damit den Kern der Vorarbeit und wir stellen fest:\n",
    "- Anzahl der Elemente liegt zwischen 23 und 484\n",
    "- Durchschnitt und Median liegen nahe beieinander\n",
    "- extrem Lange Stücke könnten später das Training verzerren, da diese viele Subsequenzen erzeugen"
   ]
  },
  {
   "cell_type": "markdown",
   "metadata": {},
   "source": [
    "### Ein weiterer Filter\n",
    "Da unter Umständen rhythmische Unterschiede zwischen den Stimmen(Parts) eines Stückes bestehen, wollen wir im Folgenden nur die jeweils ersten Stimmen betrachten."
   ]
  },
  {
   "cell_type": "code",
   "execution_count": 8,
   "metadata": {},
   "outputs": [
    {
     "name": "stdout",
     "output_type": "stream",
     "text": [
      "Max number of elments:  543\n",
      "Min number of elements:  23\n",
      "Average number of elements:  50.299065420560744\n",
      "Median number of elements:  46.0\n"
     ]
    }
   ],
   "source": [
    "# Nur erste Parts aus dem 4/4-Corpus\n",
    "\n",
    "max_elements_val = 0\n",
    "min_elements_val = 999\n",
    "nr_sums_list = [] # sums of notes+rests\n",
    "for score_44 in bach_44: #  Alle Werke durchgehen\n",
    "    #temp_parts = score_44.parts # Alle Parts des aktuelle Werkes ablegen\n",
    "    # num_parts.append(len(temp_parts)) # Parts zaehlen\n",
    "    \n",
    "    part = score_44.parts[0]\n",
    "    part = part.recurse()\n",
    "    num_notes = len(part.getElementsByClass(note.Note))\n",
    "    num_rests = len(part.getElementsByClass(note.Rest))\n",
    "    nr_sum = num_notes + num_rests\n",
    "    nr_sums_list.append(nr_sum)\n",
    "    #print(nr_sum)\n",
    "    if nr_sum < min_elements_val and nr_sum > 0:\n",
    "        min_elements_val = nr_sum\n",
    "    if nr_sum > max_elements_val:\n",
    "        max_elements_val = nr_sum\n",
    "    \n",
    "#print('Number of scores:', len(num_parts))\n",
    "#print('Number of parts:', sum(num_parts))\n",
    "#print('Average number of parts:', sum(num_parts)/len(num_parts))\n",
    "print('Max number of elments: ', max_elements_val)\n",
    "print('Min number of elements: ', min_elements_val)\n",
    "print('Average number of elements: ', np.average(nr_sums_list))\n",
    "print('Median number of elements: ', np.median(nr_sums_list))"
   ]
  },
  {
   "cell_type": "code",
   "execution_count": 9,
   "metadata": {},
   "outputs": [
    {
     "data": {
      "image/png": "[encoded data removed]",
      "text/plain": [
       "<Figure size 432x288 with 1 Axes>"
      ]
     },
     "metadata": {
      "image/png": {
       "height": 248,
       "width": 369
      },
      "needs_background": "light"
     },
     "output_type": "display_data"
    }
   ],
   "source": [
    "# Historgram\n",
    "num_bins = sum(num_parts)\n",
    "\n",
    "fig = plt.hist(nr_sums_list, bins=num_bins)"
   ]
  },
  {
   "cell_type": "markdown",
   "metadata": {},
   "source": [
    "Wie zu erwarten ergeben sich auch nur mit den ersten Stimmen ähnliche Probleme."
   ]
  },
  {
   "cell_type": "code",
   "execution_count": 10,
   "metadata": {},
   "outputs": [
    {
     "name": "stdout",
     "output_type": "stream",
     "text": [
      "[0, 0, 0, 0, 0, 0, 0, 0, 0, 0, 0, 0, 0, 0, 0, 0, 23, 23, 25, 25, 27, 29, 29, 30, 30, 31, 31, 32, 32, 32, 32, 32, 33, 33, 33, 33, 34, 34, 34, 34, 34, 34, 34, 35, 35, 35, 35, 35, 35, 36, 36, 36, 37, 37, 37, 37, 37, 37, 37, 37, 37, 37, 37, 38, 38, 38, 38, 38, 38, 38, 39, 39, 39, 39, 39, 39, 39, 40, 40, 40, 40, 40, 40, 40, 41, 41, 41, 41, 41, 41, 41, 41, 41, 41, 41, 41, 42, 42, 42, 42, 42, 42, 42, 43, 43, 43, 43, 43, 43, 43, 43, 43, 43, 43, 43, 43, 43, 43, 44, 44, 44, 44, 44, 44, 44, 44, 44, 44, 44, 44, 44, 44, 45, 45, 45, 45, 45, 45, 45, 45, 45, 45, 45, 45, 45, 46, 46, 46, 46, 46, 46, 46, 46, 46, 46, 46, 46, 46, 46, 46, 46, 46, 46, 46, 46, 46, 46, 47, 47, 47, 47, 47, 47, 47, 47, 47, 48, 48, 48, 48, 48, 48, 48, 48, 49, 49, 49, 49, 49, 49, 49, 49, 49, 49, 49, 49, 50, 50, 50, 50, 50, 50, 50, 50, 51, 51, 51, 51, 51, 51, 51, 51, 51, 51, 52, 52, 52, 52, 52, 52, 52, 52, 52, 52, 52, 53, 53, 53, 53, 53, 53, 53, 54, 54, 54, 54, 54, 55, 55, 55, 55, 55, 56, 56, 57, 57, 57, 57, 59, 59, 59, 59, 59, 59, 59, 59, 59, 60, 60, 60, 60, 60, 61, 61, 62, 62, 63, 63, 63, 63, 64, 64, 64, 64, 64, 64, 64, 65, 65, 65, 65, 66, 66, 67, 67, 67, 67, 68, 68, 69, 69, 70, 70, 71, 71, 72, 72, 72, 75, 76, 78, 81, 82, 82, 86, 87, 87, 89, 92, 98, 103, 105, 105, 105, 107, 109, 117, 133, 156, 187, 543]\n"
     ]
    }
   ],
   "source": [
    "nr_sums_list.sort()\n",
    "print(nr_sums_list)"
   ]
  },
  {
   "cell_type": "code",
   "execution_count": 11,
   "metadata": {},
   "outputs": [
    {
     "name": "stdout",
     "output_type": "stream",
     "text": [
      "frequencies_dict\n",
      "{0: 16, 23: 2, 25: 2, 27: 1, 29: 2, 30: 2, 31: 2, 32: 5, 33: 4, 34: 7, 35: 6, 36: 3, 37: 11, 38: 7, 39: 7, 40: 7, 41: 12, 42: 7, 43: 15, 44: 14, 45: 13, 46: 22, 47: 9, 48: 8, 49: 12, 50: 8, 51: 10, 52: 11, 53: 7, 54: 5, 55: 5, 56: 2, 57: 4, 59: 9, 60: 5, 61: 2, 62: 2, 63: 4, 64: 7, 65: 4, 66: 2, 67: 4, 68: 2, 69: 2, 70: 2, 71: 2, 72: 3, 75: 1, 76: 1, 78: 1, 81: 1, 82: 2, 86: 1, 87: 2, 89: 1, 92: 1, 98: 1, 103: 1, 105: 3, 107: 1, 109: 1, 117: 1, 133: 1, 156: 1, 187: 1, 543: 1}\n"
     ]
    }
   ],
   "source": [
    "nr_sums_list.sort()\n",
    "#print(nr_sums_list)\n",
    "\n",
    "frequencies_list = [len(list(group)) for key, group in groupby(nr_sums_list)]\n",
    "nr_sums_set = set(nr_sums_list)\n",
    "sum_list = list(nr_sums_set)\n",
    "sum_list.sort()\n",
    "\n",
    "frequencies_dict = dict((x,y) for x, y in zip(sum_list,frequencies_list))\n",
    "\n",
    "print(\"frequencies_dict\")\n",
    "print(frequencies_dict)"
   ]
  },
  {
   "cell_type": "markdown",
   "metadata": {},
   "source": [
    "- kleiner als 32 -> Anzahl der Stücke dieser Länge sehr gering, Informationsgehalt auch. \n",
    "- grösser als 60 -> Anzahl nimmt auch ab, werden im Verhältnis zu 32 auch sehr lang\n",
    "- Angenommen minimale Länge -> 150 Elemente in Sequenz, maximal 60 -> 300 "
   ]
  },
  {
   "cell_type": "markdown",
   "metadata": {},
   "source": [
    "### Nochmal Statistik"
   ]
  },
  {
   "cell_type": "code",
   "execution_count": 12,
   "metadata": {},
   "outputs": [
    {
     "name": "stdout",
     "output_type": "stream",
     "text": [
      "Median number of elements: 46.0\n",
      "Average number of elements: 50.299065420560744\n",
      "12.5-percentile of elements: 34.0\n",
      "87.5-percentile of elements: 65.0\n"
     ]
    }
   ],
   "source": [
    "median_sums = np.median(nr_sums_list)\n",
    "average_sums = np.average(nr_sums_list)\n",
    "perc_12_sums = np.percentile(nr_sums_list, 12.5)\n",
    "perc_87_sums = np.percentile(nr_sums_list, 87.5)\n",
    "\n",
    "print('Median number of elements:', median_sums)\n",
    "print('Average number of elements:',average_sums)\n",
    "print('12.5-percentile of elements:', perc_12_sums)\n",
    "print('87.5-percentile of elements:', perc_87_sums)"
   ]
  },
  {
   "cell_type": "markdown",
   "metadata": {},
   "source": [
    "Damit hätten wir bei min=30 und max=65 mehr als 75% des Datensatzes abegedeckt und muessten mit einer maximalen Laenge von 325 arbeiten."
   ]
  },
  {
   "cell_type": "markdown",
   "metadata": {},
   "source": [
    "### Erstellen des Wortschatzes"
   ]
  },
  {
   "cell_type": "code",
   "execution_count": 13,
   "metadata": {},
   "outputs": [],
   "source": [
    "# Filterparameter\n",
    "composer = 'bach'\n",
    "time_ratio = '4/4'\n",
    "min_elem_filter = 30\n",
    "max_elem_filter = 65"
   ]
  },
  {
   "cell_type": "code",
   "execution_count": 14,
   "metadata": {},
   "outputs": [
    {
     "name": "stdout",
     "output_type": "stream",
     "text": [
      "Number of parts:  258\n"
     ]
    }
   ],
   "source": [
    "pitch_classes, octaves, durations, dots = getVocab(composer, time_ratio, min_elem_filter, max_elem_filter)"
   ]
  },
  {
   "cell_type": "code",
   "execution_count": 15,
   "metadata": {},
   "outputs": [
    {
     "name": "stdout",
     "output_type": "stream",
     "text": [
      "['E-', 'G', 'F#', 'A-', 'G-', 'D#', 'B-', 'C#', 'D-', 'A', 'A#', 'C', 'F', 'D', 'E', 'G#', 'B']\n",
      "['16th', 'quarter', 'half', 'eighth', '32nd', 'whole']\n",
      "['o4', 'o3', 'o6', 'o5']\n",
      "['d1', 'd0']\n"
     ]
    }
   ],
   "source": [
    "other = ['null',' ']\n",
    "print(pitch_classes)\n",
    "print(durations)\n",
    "print(octaves)\n",
    "print(dots)"
   ]
  },
  {
   "cell_type": "code",
   "execution_count": 16,
   "metadata": {},
   "outputs": [
    {
     "name": "stdout",
     "output_type": "stream",
     "text": [
      "{'null': 0, ' ': 1, 'E-': 2, 'G': 3, 'F#': 4, 'A-': 5, 'G-': 6, 'D#': 7, 'B-': 8, 'C#': 9, 'D-': 10, 'A': 11, 'A#': 12, 'C': 13, 'F': 14, 'D': 15, 'E': 16, 'G#': 17, 'B': 18, '16th': 19, 'quarter': 20, 'half': 21, 'eighth': 22, '32nd': 23, 'whole': 24, 'd1': 25, 'd0': 26, 'o4': 27, 'o3': 28, 'o6': 29, 'o5': 30}\n"
     ]
    }
   ],
   "source": [
    "# Ueberfuehrung in Dictionary\n",
    "words = other + pitch_classes + durations + dots + octaves\n",
    "word_to_int = dict((word, number) for number, word in enumerate(words))\n",
    "print(word_to_int)"
   ]
  },
  {
   "cell_type": "markdown",
   "metadata": {},
   "source": [
    "### Gedanken zu Sequenzen, Padding und Leistungsfähigkeit des Modells\n",
    "\n",
    "Erinnerung: Wir wollen nicht ganze Stücke (bzw. deren Parts) eingeben, sondern Subparts. \n",
    "\n",
    "**Idee**:<br>\n",
    "Modell erwartet bisher Sequenzen der Länge 200.  \n",
    "-> Eingabe bis 250 sollte machbar sein  \n",
    "Pro Note braucht man 5 Elemente einer Sequenz (inklusive Trennzeichen), pro Pause 3  \n",
    "-> aus einem Stück mit 65 Elementen wird eine Sequenz mit maximal 325 Elementen (falls nur Noten enthalten sind) \n",
    "\n",
    "**Minimale Länge**:<br>\n",
    "Vernachlässigen wir Pausen, dann hieße eine minimale Länge eines Stückes von 30 Elementen, dass ca. die Hälfte der Sequenz mit sinnvoller Information gefüllt wäre, der Rest mit reinem Padding.  \n",
    "\n",
    "**Länge des Padding**:<br>\n",
    "Es wird bei der Übersetzung von Stream zu String-Liste gepaddet. Eingabelisten (Subparts) werden aus den String-Listen erstellt. Padden wir auf eine Länge von 350, so erhielten wir 100 Trainingsfälle pro Musikstück. Im Schlimmsten Fall, also bei Länge 150 (aus 30 Elementen), würde eine Sequenz mit 200-mal PADDING-ELEMENT und den ersten 50 Elemten der Sequenz erzeugt.  \n",
    "\n",
    "*Problem 1*:<br>\n",
    "Bei reinem Backpadding, erhalten wir aus den 30er Stuecken nur Trainingsfälle bei denen weiteres Padding vorhergesagt wird. Ausserdem können nur die letzten Elemente vorhergesagt werden. Um auch das erste Element vorhersagen zu können, müssten wir Frontpadding der Länge 299 anwenden.\n",
    "\n",
    "*Problem 2*:<br>\n",
    "Es können nur die letzten 100 Elemente einer Sequenz sinnvoll vorhergesagt werden und damit nur 20 Noten."
   ]
  },
  {
   "cell_type": "markdown",
   "metadata": {},
   "source": [
    "# Beispiel\n",
    "\n",
    "**Annahme:**\n",
    "- Eingabelänge 10  \n",
    "- Padding auf 15  \n",
    "- Stücke liegen in (vereinfachter) String Codierung vor  \n",
    "\n",
    "**i.A.:**<br>\n",
    "Es entstehen in den Fällen 'kürzer' und 'gleich' jeweils 5 Trainingsfälle.  \n",
    "Im Fall 'länger' entstehten STUECKLAENGE-EINGABELAENGE+1 viele Fälle.\n",
    "\n",
    "\n",
    "**Fall 1**: *Stück ist länger als minimale Eingabe.*<br>\n",
    "*Stück:*  \n",
    "A D E C E A G E C E A B E B E A \n",
    "\n",
    "*Mit Padding:*  \n",
    "A D E C E A G E C E A B E B E  \n",
    "\n",
    "*Trainingsfälle (6):*  \n",
    "X: A D E C E A G E C E ,Y: A  \n",
    "X: D E C E A G E C E A ,Y: B  \n",
    "X: E C E A G E C E A B ,Y: E  \n",
    "X: C E A G E C E A B E ,Y: B  \n",
    "X: E A G E C E A B E B ,Y: E  \n",
    "X: A G E C E A B E B E ,Y: A  \n",
    "\n",
    "**Fall 2:** *Stück ist gleich lang wie die minimale Eingabe.*<br>\n",
    "*Stück:*\n",
    "A D E C E A G E C E  \n",
    "<br>\n",
    "*Mit Padding:*\n",
    "A D E C E A G E C E - - - - -  \n",
    "\n",
    "*Trainingsfälle(5):*  \n",
    "X: A D E C E A G E C E ,Y: -  \n",
    "X: D E C E A G E C E - ,Y: -  \n",
    "X: E C E A G E C E - - ,Y: -  \n",
    "X: C E A G E C E - - - ,Y: -  \n",
    "X: E A G E C E - - - - ,Y: -  \n",
    "\n",
    "**Fall 3:** *Stück ist kürzer als minimale Eingabe.*  \n",
    "*Stück:*\n",
    "A B E B E  \n",
    "\n",
    "*Mit Padding:*\n",
    "A B E B E - - - - - - - - - -  \n",
    "\n",
    "*Trainingsfälle(5):*  \n",
    "X: A B E B E - - - - - ,Y: -  \n",
    "X: B E B E - - - - - - ,Y: -  \n",
    "X: E B E - - - - - - - ,Y: -  \n",
    "X: B E - - - - - - - - ,Y: -  \n",
    "X: E - - - - - - - - - ,Y: -  "
   ]
  },
  {
   "cell_type": "markdown",
   "metadata": {},
   "source": [
    "# Embedding\n",
    "\n",
    "https://www.aclweb.org/anthology/I17-2006\n",
    "\n",
    "Das oben genannten Paper schlägt einen Algorithmus zur Bestimmung der minimalen Embedding-Dimension vor. Diesem wollen im Folgenden nachgehen."
   ]
  },
  {
   "cell_type": "markdown",
   "metadata": {},
   "source": [
    "# Schritt 1\n",
    "\n",
    "*'Compute the word x word co-occurence matrix from the corpus.'*\n",
    "\n",
    "**Problem: Welche Fenstergröß? In welcher Einheit die Fenstergröße messen?**\n",
    "- Anzahl einzelner Elemente macht wenig Sinn, da nur 4er (Noten) bzw 2er (Pausen) Gruppen sinnvolle Aussagen ergeben. Bei Fenstergröße, aber kein Bezug zu anderen Wörtern\n",
    "- Will man rythmische oder melodische Struktur als Semantik interpretieren reicht eine Größe von 4 z.B. nicht aus. \n",
    "- **Option A:** naheliegend: äquivalent zum NLP, das Fester als 'ganzer Takt' (Also Takt=Satz). D.h. durch alle Takte iterieren. ->Problem: kein Bezug zu vorherigen Takten\n",
    "- **Option B:** Fenstergröße als durchschnittliche Taktlänge. Bsp ein Takt enthält im Durchscnitt 4 Noten und 0 Pause -> D.h. 4\\*4+4=20 Elemente (bzw von einem einzelnen Element 10 nach links und nach rechts). Problem -> Ränder? Oder Jeder Takt hat im Durchschnitt 5 Noten oder Pausen -> Fasse immer 5 Elemente zu einem Satz zusammen.\n",
    "- Fenster dürfen nicht überlappen. D.h. Fenster in Takten definieren\n",
    "- **Lösung: Wir testen einfach verschiedene Festerngrößen.** "
   ]
  },
  {
   "cell_type": "code",
   "execution_count": 17,
   "metadata": {},
   "outputs": [
    {
     "name": "stdout",
     "output_type": "stream",
     "text": [
      "Number of parts:  258\n",
      "{' ': 0, 'E-': 1, 'G': 2, 'F#': 3, 'A-': 4, 'G-': 5, 'D#': 6, 'B-': 7, 'C#': 8, 'D-': 9, 'A': 10, 'A#': 11, 'C': 12, 'F': 13, 'D': 14, 'E': 15, 'G#': 16, 'B': 17, '16th': 18, 'quarter': 19, 'half': 20, 'eighth': 21, '32nd': 22, 'whole': 23, 'd1': 24, 'd0': 25, 'o4': 26, 'o3': 27, 'o6': 28, 'o5': 29}\n",
      "30\n"
     ]
    }
   ],
   "source": [
    "pitch_classes_cm, octaves_cm, durations_cm, dots_cm = getVocab(composer, time_ratio, min_elem_filter, max_elem_filter)\n",
    "# Nochmal Wortschatz\n",
    "other_cm = [' ']\n",
    "words_cm = other_cm + pitch_classes_cm + durations_cm + dots_cm + octaves_cm\n",
    "word_to_int_cm = dict((word, number) for number, word in enumerate(words_cm))\n",
    "print(word_to_int_cm)\n",
    "print(len(word_to_int_cm))"
   ]
  },
  {
   "cell_type": "code",
   "execution_count": 18,
   "metadata": {},
   "outputs": [],
   "source": [
    "def getCoocMatrix(vocab, corpus, context_size):\n",
    "    min_elem = 30\n",
    "    max_elem = 65\n",
    "    padding_target_length = 0\n",
    "    co_matrix = np.zeros((len(vocab),len(vocab))) # Matrix erstellen\n",
    "    \n",
    "    part_count = 0\n",
    "    \n",
    "    for work in corpus:\n",
    "        temp_score = work.parse() # Werk einlesen und parsen\n",
    "        \n",
    "        part = temp_score.parts[0]\n",
    "        part_rec = part.recurse() # plaetten\n",
    "        \n",
    "        # relevante Elemente zaehlen und evtl den Part ueberspringen\n",
    "        notes_and_rests = list(part_rec.getElementsByClass([note.Note,note.Rest]))\n",
    "        nr_sum = len(notes_and_rests)\n",
    "\n",
    "        if min_elem <= nr_sum <= max_elem: # Falls die Anzahl der Elemente den Vorgaben entspricht\n",
    "            part_str = part2List(notes_and_rests,padding_target_length) # Laenge des Paddings vorne/hinten, ganzzahlig und aufgerundet\n",
    "            \n",
    "            for ix,elem_part in enumerate(part_str):\n",
    "                    \n",
    "                min_ix = 0\n",
    "                max_ix = len(part_str)\n",
    "                \n",
    "                if ix-context_size > 0: # minimaler Index wird nicht unterschritten \n",
    "                    min_ix = ix-context_size\n",
    "                if ix+context_size < max_ix: # maximaler Index wird nicht ueberschritten\n",
    "                    max_ix = ix+context_size+1\n",
    "    \n",
    "                window = part_str[min_ix:max_ix] # Fenster ausschneiden\n",
    "                window.pop(ix-min_ix) # Kernelemente aus dem Fenster entfernen\n",
    "                \n",
    "                for elem_win in window: # co_matrix entsprechend der Elemente 'befuellen'\n",
    "                    co_matrix[vocab[elem_part],vocab[elem_win]] += 1\n",
    "            \n",
    "            part_count += 1\n",
    "        \n",
    "    print('coMatrix parts = ', part_count)\n",
    "                    \n",
    "    return co_matrix\n",
    "            "
   ]
  },
  {
   "cell_type": "markdown",
   "metadata": {},
   "source": [
    "### Verdeutlichung an einfachem Beispiel"
   ]
  },
  {
   "cell_type": "code",
   "execution_count": 19,
   "metadata": {
    "jupyter": {
     "source_hidden": true
    }
   },
   "outputs": [
    {
     "name": "stdout",
     "output_type": "stream",
     "text": [
      "12\n",
      "['l']\n",
      "-----\n",
      "a\n",
      "['b', 'c', 'd']\n",
      "max 4\n",
      "min 0\n",
      "-----\n",
      "b\n",
      "['a', 'c', 'd', 'e']\n",
      "max 5\n",
      "min 0\n",
      "-----\n",
      "c\n",
      "['a', 'b', 'd', 'e', 'f']\n",
      "max 6\n",
      "min 0\n",
      "-----\n",
      "d\n",
      "['a', 'b', 'c', 'e', 'f', 'g']\n",
      "max 7\n",
      "min 0\n",
      "-----\n",
      "e\n",
      "['b', 'c', 'd', 'f', 'g', 'h']\n",
      "max 8\n",
      "min 1\n",
      "-----\n",
      "f\n",
      "['c', 'd', 'e', 'g', 'h', 'i']\n",
      "max 9\n",
      "min 2\n",
      "-----\n",
      "g\n",
      "['d', 'e', 'f', 'h', 'i', 'j']\n",
      "max 10\n",
      "min 3\n",
      "-----\n",
      "h\n",
      "['e', 'f', 'g', 'i', 'j', 'k']\n",
      "max 11\n",
      "min 4\n",
      "-----\n",
      "i\n",
      "['f', 'g', 'h', 'j', 'k', 'l']\n",
      "max 12\n",
      "min 5\n",
      "-----\n",
      "j\n",
      "['g', 'h', 'i', 'k', 'l']\n",
      "max 12\n",
      "min 6\n",
      "-----\n",
      "k\n",
      "['h', 'i', 'j', 'l']\n",
      "max 12\n",
      "min 7\n",
      "-----\n",
      "l\n",
      "['i', 'j', 'k']\n",
      "max 12\n",
      "min 8\n"
     ]
    }
   ],
   "source": [
    "test_list = ['a','b','c','d','e','f','g','h','i','j','k','l']\n",
    "ix = 4\n",
    "elem = 'e'\n",
    "context_size = 3\n",
    "print(len(test_list))\n",
    "print(test_list[11:12])\n",
    "\n",
    "for ix in range(len(test_list)):\n",
    "    min_ix = 0\n",
    "    max_ix = len(test_list)\n",
    "                \n",
    "    if ix-context_size > 0: # minimaler Index wird nicht unterschritten \n",
    "        min_ix = ix-context_size\n",
    "    if ix+context_size < max_ix: # maximaler Index wird nicht ueberschritten\n",
    "        max_ix = ix+context_size+1\n",
    "    \n",
    "    window = test_list[min_ix:max_ix]\n",
    "    window.pop(ix-min_ix)\n",
    "    \n",
    "    print('-----')\n",
    "    print(test_list[ix])\n",
    "    print(window)\n",
    "    print('max',max_ix)\n",
    "    print('min',min_ix)\n",
    "    "
   ]
  },
  {
   "cell_type": "markdown",
   "metadata": {},
   "source": [
    "### Weiter mit Schritt 1"
   ]
  },
  {
   "cell_type": "code",
   "execution_count": 49,
   "metadata": {},
   "outputs": [],
   "source": [
    "# Corpus einlesen und filtern\n",
    "composer = 'bach'\n",
    "time_ratio = '4/4'\n",
    "\n",
    "data_corp = corpus.search(composer,'composer')\n",
    "data_corp = data_corp.search(time_ratio)"
   ]
  },
  {
   "cell_type": "code",
   "execution_count": 72,
   "metadata": {},
   "outputs": [
    {
     "name": "stdout",
     "output_type": "stream",
     "text": [
      "coMatrix parts =  258\n"
     ]
    }
   ],
   "source": [
    "# Matrix erstellen\n",
    "context_size = 25 # Fenstergroesse\n",
    "co_matrix = getCoocMatrix(word_to_int_cm, data_corp, context_size)"
   ]
  },
  {
   "cell_type": "code",
   "execution_count": 73,
   "metadata": {},
   "outputs": [
    {
     "data": {
      "image/png": "[encoded data removed]",
      "text/plain": [
       "<Figure size 432x288 with 1 Axes>"
      ]
     },
     "metadata": {
      "image/png": {
       "height": 248,
       "width": 251
      },
      "needs_background": "light"
     },
     "output_type": "display_data"
    }
   ],
   "source": [
    "# Matrix plotten\n",
    "plt.imshow(co_matrix, cmap='hot', interpolation='nearest')\n",
    "plt.show()"
   ]
  },
  {
   "cell_type": "markdown",
   "metadata": {},
   "source": [
    "### Nähere Betrachtung der Matrix\n",
    "(für den Algorithmus zunächst uninteressant)"
   ]
  },
  {
   "cell_type": "code",
   "execution_count": 74,
   "metadata": {},
   "outputs": [
    {
     "name": "stdout",
     "output_type": "stream",
     "text": [
      "index:  0     :  566864.0\n",
      "index:  1   E- :  11378.0\n",
      "index:  2   G :  58118.0\n",
      "index:  3   F# :  22935.0\n",
      "index:  4   A- :  2119.0\n",
      "index:  5   G- :  339.0\n",
      "index:  6   D# :  1768.0\n",
      "index:  7   B- :  29949.0\n",
      "index:  8   C# :  35269.0\n",
      "index:  9   D- :  1184.0\n",
      "index:  10   A :  91979.0\n",
      "index:  11   A# :  793.0\n",
      "index:  12   C :  63825.0\n",
      "index:  13   F :  26394.0\n",
      "index:  14   D :  84568.0\n",
      "index:  15   E :  46959.0\n",
      "index:  16   G# :  8052.0\n",
      "index:  17   B :  76021.0\n",
      "index:  18   16th :  7259.0\n",
      "index:  19   quarter :  402063.0\n",
      "index:  20   half :  49802.0\n",
      "index:  21   eighth :  104910.0\n",
      "index:  22   32nd :  300.0\n",
      "index:  23   whole :  2534.0\n",
      "index:  24   d1 :  15146.0\n",
      "index:  25   d0 :  551720.0\n",
      "index:  26   o4 :  325187.0\n",
      "index:  27   o3 :  50.0\n",
      "index:  28   o6 :  159.0\n",
      "index:  29   o5 :  236256.0\n"
     ]
    }
   ],
   "source": [
    "for i,elem in enumerate(word_to_int_cm):\n",
    "    print('index: ',i,' ',elem,': ',sum(co_matrix[i,:]))"
   ]
  },
  {
   "cell_type": "code",
   "execution_count": 75,
   "metadata": {},
   "outputs": [],
   "source": [
    "# ohne ' '\n",
    "cm_slice = co_matrix[1:,1:]"
   ]
  },
  {
   "cell_type": "code",
   "execution_count": 76,
   "metadata": {},
   "outputs": [
    {
     "data": {
      "image/png": "[encoded data removed]",
      "text/plain": [
       "<Figure size 432x288 with 1 Axes>"
      ]
     },
     "metadata": {
      "image/png": {
       "height": 248,
       "width": 251
      },
      "needs_background": "light"
     },
     "output_type": "display_data"
    }
   ],
   "source": [
    "plt.imshow(cm_slice, cmap='hot', interpolation='nearest')\n",
    "plt.show()"
   ]
  },
  {
   "cell_type": "markdown",
   "metadata": {},
   "source": [
    "# Schritt 2\n",
    "\n",
    "*'Create the word x word cosine similarity matrix by treating the rows of co-occurrence matrix as word vectors'*\n",
    "\n",
    "Netter Weise ist die cosine-similarity-Matrix in sklearn.metrics schon vorimplementiert."
   ]
  },
  {
   "cell_type": "code",
   "execution_count": 77,
   "metadata": {},
   "outputs": [],
   "source": [
    "cos_sim_matrix = metrics.pairwise.cosine_similarity(co_matrix, Y=None, dense_output=False)"
   ]
  },
  {
   "cell_type": "code",
   "execution_count": 78,
   "metadata": {},
   "outputs": [
    {
     "data": {
      "image/png": "[encoded data removed]",
      "text/plain": [
       "<Figure size 432x288 with 1 Axes>"
      ]
     },
     "metadata": {
      "image/png": {
       "height": 248,
       "width": 251
      },
      "needs_background": "light"
     },
     "output_type": "display_data"
    }
   ],
   "source": [
    "# Plot\n",
    "plt.imshow(cos_sim_matrix, cmap='hot', interpolation='nearest')\n",
    "plt.show()"
   ]
  },
  {
   "cell_type": "markdown",
   "metadata": {},
   "source": [
    "# Schritt 3 und 4\n",
    "\n",
    "*3)*\n",
    "*For each similarity value s_k :*\n",
    "- *a) (i) Create a graph, where the words are nodes. (ii) Create an edge between node i and node j if sim(i,j) = s_k*\n",
    "- *b) Find maximum clique on this graph. The number of nodes in this clique is the maximum number of pairwise equidistant points E_k*\n",
    "- *c) Reverse lookup E_k in table 3 to determine the corresponding number of dimension λ_k*\n",
    "\n",
    "|      λ       |     E     |\n",
    "|--------------|-----------|\n",
    "|      3       |     6     |\n",
    "|      4       |     6     |\n",
    "|      5       |    10     |\n",
    "|      6       |    16     |\n",
    "|   7-13   |    28     |\n",
    "|     14       |    30     |\n",
    "\n",
    "*4)*\n",
    "*The maximum the maximum λ among all λ_k_s is the lower bound.*\n",
    "\n",
    "Wir nutzen dazu networkz und ein wenig Graphentheorie."
   ]
  },
  {
   "cell_type": "code",
   "execution_count": 79,
   "metadata": {},
   "outputs": [],
   "source": [
    "sim_graph = nx.Graph() # leeren Graph erstellen"
   ]
  },
  {
   "cell_type": "code",
   "execution_count": 80,
   "metadata": {},
   "outputs": [],
   "source": [
    "# Schritt 3 a) i)\n",
    "# Knoten (nodes) hinzufuegen und entsprechende Namen geben\n",
    "for i,elem in enumerate(word_to_int_cm):\n",
    "    sim_graph.add_nodes_from([(i,{'name':elem})])"
   ]
  },
  {
   "cell_type": "code",
   "execution_count": 81,
   "metadata": {},
   "outputs": [
    {
     "name": "stdout",
     "output_type": "stream",
     "text": [
      "(0, ' ')\n",
      "(1, 'E-')\n",
      "(2, 'G')\n",
      "(3, 'F#')\n",
      "(4, 'A-')\n",
      "(5, 'G-')\n",
      "(6, 'D#')\n",
      "(7, 'B-')\n",
      "(8, 'C#')\n",
      "(9, 'D-')\n",
      "(10, 'A')\n",
      "(11, 'A#')\n",
      "(12, 'C')\n",
      "(13, 'F')\n",
      "(14, 'D')\n",
      "(15, 'E')\n",
      "(16, 'G#')\n",
      "(17, 'B')\n",
      "(18, '16th')\n",
      "(19, 'quarter')\n",
      "(20, 'half')\n",
      "(21, 'eighth')\n",
      "(22, '32nd')\n",
      "(23, 'whole')\n",
      "(24, 'd1')\n",
      "(25, 'd0')\n",
      "(26, 'o4')\n",
      "(27, 'o3')\n",
      "(28, 'o6')\n",
      "(29, 'o5')\n"
     ]
    }
   ],
   "source": [
    "# check\n",
    "for name in sim_graph.nodes.data('name'):\n",
    "    print(name)"
   ]
  },
  {
   "cell_type": "code",
   "execution_count": 82,
   "metadata": {},
   "outputs": [
    {
     "name": "stdout",
     "output_type": "stream",
     "text": [
      "max E_k: 2\n"
     ]
    }
   ],
   "source": [
    "unique_sk = np.unique(cos_sim_matrix) # similartiy values bestimmen\n",
    "\n",
    "E_k = []\n",
    "num_edges = []\n",
    "\n",
    "for sk in unique_sk: # for jeden similarty value\n",
    "    sim_graph = nx.Graph() # Graph erstellen\n",
    "    for i,elem in enumerate(word_to_int_cm): # Knoten entsprechend der Woerter hinzufuegen\n",
    "        sim_graph.add_nodes_from([(i,{'name':elem})])\n",
    "        \n",
    "    for i in range(len(cos_sim_matrix)): # Kanten zwischen Knoten i und j, falls cos_sim(i,j) = s_k\n",
    "        for j in range(len(cos_sim_matrix)):\n",
    "            if cos_sim_matrix[i][j] == sk:\n",
    "                sim_graph.add_edge(i,j)\n",
    "                \n",
    "    num_edges.append(len(sim_graph.edges()))\n",
    "    E_k.append(nx.graph_clique_number(sim_graph)) # groesse der maximalen Clique im Graphen\n",
    "\n",
    "print('max E_k:',max(E_k)) # Es genuegt offensichtlich das maximale E_k zu betrachten"
   ]
  },
  {
   "cell_type": "markdown",
   "metadata": {},
   "source": [
    "Wir können damit eine Embedding-Dimension von 3 wählen."
   ]
  }
 ],
 "metadata": {
  "kernelspec": {
   "display_name": "Python 3 (ipykernel)",
   "language": "python",
   "name": "python3"
  },
  "language_info": {
   "codemirror_mode": {
    "name": "ipython",
    "version": 3
   },
   "file_extension": ".py",
   "mimetype": "text/x-python",
   "name": "python",
   "nbconvert_exporter": "python",
   "pygments_lexer": "ipython3",
   "version": "3.7.4"
  }
 },
 "nbformat": 4,
 "nbformat_minor": 4
}
